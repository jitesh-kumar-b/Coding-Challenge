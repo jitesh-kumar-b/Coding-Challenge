{
  "cells": [
    {
      "cell_type": "markdown",
      "metadata": {
        "id": "view-in-github",
        "colab_type": "text"
      },
      "source": [
        "<a href=\"https://colab.research.google.com/github/jiteshkmr/Coding-Challenge/blob/main/Coding_Challenge.ipynb\" target=\"_parent\"><img src=\"https://colab.research.google.com/assets/colab-badge.svg\" alt=\"Open In Colab\"/></a>"
      ]
    },
    {
      "cell_type": "code",
      "source": [
        "import pandas as pd\n",
        "import requests \n",
        "from datetime import datetime\n",
        "from datetime import timedelta\n",
        "from datetime import date\n",
        "\n",
        "date = date.today() - timedelta(days=30)\n",
        "#date = str(input(\"Enter date to get the data till current date: \"))\n",
        "\n",
        "df = pd.DataFrame(columns=['Respository Owner Login', 'Repository Name', 'Repository URL', 'Number of stars', 'Repository Created Date'])\n",
        "\n",
        "#Search for the top repositories and send the get request\n",
        "data = requests.get(f\"https://api.github.com/search/repositories?q=created:%22%3E\" + str(date) + \"%22language:python&sort=stars&order=desc&per_page=10\").json()\n",
        "#data = requests.get(f\"https://api.github.com/search/repositories?q=created:%22%3E\" + date + \"%22language:python&sort=stars&order=desc&per_page=10\").json()\n",
        "\n",
        "for repository in data['items']:\n",
        "        dict_tmp = {'Respository Owner Login': repository['owner']['login'],\n",
        "                'Repository Name': repository['name'],\n",
        "                'Repository URL': repository['url'],\n",
        "                'Number of stars': repository['stargazers_count'],\n",
        "                'Repository Created Date': datetime.strptime(repository['created_at'], '%Y-%m-%dT%H:%M:%SZ')\n",
        "                }\n",
        "        #appending it to the dataframe\n",
        "        df = df.append(dict_tmp, ignore_index=True)\n",
        "\n",
        "print(df)\n",
        "df.to_csv('repofile.txt', sep='|', index=False)"
      ],
      "metadata": {
        "colab": {
          "base_uri": "https://localhost:8080/"
        },
        "id": "gNKEYvBNqtR_",
        "outputId": "b6170826-16b6-4372-ee4a-3a3257d1a6a2"
      },
      "execution_count": 2,
      "outputs": [
        {
          "output_type": "stream",
          "name": "stdout",
          "text": [
            "  Respository Owner Login Repository Name  \\\n",
            "0                   moyix       fauxpilot   \n",
            "1                  kifuan          helang   \n",
            "2      redballoonsecurity           ofrak   \n",
            "3         NVIDIAGameWorks     kaolin-wisp   \n",
            "4               nnaisense        evotorch   \n",
            "5            jizhishutong           YOLOU   \n",
            "6          killiansheriff     LovelyPlots   \n",
            "7                   iscyy         yoloair   \n",
            "8                   THUDM        GLM-130B   \n",
            "9                mouredev    Hello-Python   \n",
            "\n",
            "                                      Repository URL Number of stars  \\\n",
            "0       https://api.github.com/repos/moyix/fauxpilot            5420   \n",
            "1         https://api.github.com/repos/kifuan/helang            1735   \n",
            "2  https://api.github.com/repos/redballoonsecurit...             975   \n",
            "3  https://api.github.com/repos/NVIDIAGameWorks/k...             811   \n",
            "4    https://api.github.com/repos/nnaisense/evotorch             622   \n",
            "5    https://api.github.com/repos/jizhishutong/YOLOU             513   \n",
            "6  https://api.github.com/repos/killiansheriff/Lo...             505   \n",
            "7         https://api.github.com/repos/iscyy/yoloair             444   \n",
            "8        https://api.github.com/repos/THUDM/GLM-130B             428   \n",
            "9  https://api.github.com/repos/mouredev/Hello-Py...             377   \n",
            "\n",
            "  Repository Created Date  \n",
            "0     2022-08-03 02:14:22  \n",
            "1     2022-08-16 17:21:44  \n",
            "2     2022-08-08 17:32:31  \n",
            "3     2022-07-26 13:03:29  \n",
            "4     2022-08-08 18:03:06  \n",
            "5     2022-07-25 14:14:06  \n",
            "6     2022-07-25 14:01:48  \n",
            "7     2022-08-05 09:37:53  \n",
            "8     2022-08-03 20:21:58  \n",
            "9     2022-08-03 17:14:53  \n"
          ]
        }
      ]
    }
  ],
  "metadata": {
    "colab": {
      "name": "Coding Challenge.ipynb",
      "provenance": [],
      "collapsed_sections": [],
      "authorship_tag": "ABX9TyOGTYaSfSYVhGjfr6Wb3Hy4",
      "include_colab_link": true
    },
    "kernelspec": {
      "display_name": "Python 3",
      "name": "python3"
    },
    "language_info": {
      "name": "python"
    }
  },
  "nbformat": 4,
  "nbformat_minor": 0
}